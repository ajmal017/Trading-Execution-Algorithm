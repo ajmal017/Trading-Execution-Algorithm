{
 "cells": [
  {
   "cell_type": "code",
   "execution_count": 1,
   "metadata": {},
   "outputs": [],
   "source": [
    "import numpy as np\n",
    "import pandas as pd\n",
    "import matplotlib.pyplot as plt\n",
    "%matplotlib inline\n",
    "import seaborn as sns\n",
    "import math\n",
    "import time \n",
    "import datetime\n",
    "import statsmodels.api as sm\n",
    "import statsmodels.tsa.stattools as ts"
   ]
  },
  {
   "cell_type": "code",
   "execution_count": 2,
   "metadata": {},
   "outputs": [
    {
     "ename": "ModuleNotFoundError",
     "evalue": "No module named 'talib'",
     "output_type": "error",
     "traceback": [
      "\u001b[0;31m---------------------------------------------------------------------------\u001b[0m",
      "\u001b[0;31mModuleNotFoundError\u001b[0m                       Traceback (most recent call last)",
      "\u001b[0;32m<ipython-input-2-39fbdb69ff19>\u001b[0m in \u001b[0;36m<module>\u001b[0;34m\u001b[0m\n\u001b[0;32m----> 1\u001b[0;31m \u001b[0;32mimport\u001b[0m \u001b[0mtalib\u001b[0m \u001b[0;32mas\u001b[0m \u001b[0mta\u001b[0m\u001b[0;34m\u001b[0m\u001b[0;34m\u001b[0m\u001b[0m\n\u001b[0m",
      "\u001b[0;31mModuleNotFoundError\u001b[0m: No module named 'talib'"
     ]
    }
   ],
   "source": [
    "import talib as ta"
   ]
  },
  {
   "cell_type": "code",
   "execution_count": null,
   "metadata": {},
   "outputs": [],
   "source": [
    "df1=pd.read_excel(\"C:\\\\Users\\\\raymond.widjaja\\\\Desktop\\\\VIX\\\\VIXXFUTURE.xlsx\",\"UX1 Index\")\n",
    "df2=pd.read_excel(\"C:\\\\Users\\\\raymond.widjaja\\\\Desktop\\\\VIX\\\\VIXXFUTURE.xlsx\",\"UX2 Index\")"
   ]
  },
  {
   "cell_type": "code",
   "execution_count": null,
   "metadata": {},
   "outputs": [],
   "source": [
    "data1=df1.copy()\n",
    "data2=df2.copy()\n",
    "#Set the date index\n",
    "data1.set_index('Dates',drop=True,inplace=True)\n",
    "data2.set_index('Dates',drop=True,inplace=True)\n",
    "#Localize the HK time zone\n",
    "data1.index=pd.to_datetime(data1.index).tz_localize('Hongkong') #UTC-5\n",
    "data2.index=pd.to_datetime(data2.index).tz_localize('Hongkong')\n",
    "#Conver the HK time zone \n",
    "data1.index=pd.to_datetime(data1.index).tz_convert('US/Eastern') #UTC-5\n",
    "data2.index=pd.to_datetime(data2.index).tz_convert('US/Eastern')\n"
   ]
  },
  {
   "cell_type": "code",
   "execution_count": null,
   "metadata": {},
   "outputs": [],
   "source": [
    "UX1=data1.between_time('09:30','16:00')\n",
    "UX2=data2.between_time('09:30','16:00')"
   ]
  },
  {
   "cell_type": "code",
   "execution_count": null,
   "metadata": {},
   "outputs": [],
   "source": [
    "UX1['Volatility']=np.log(UX1['High'])-np.log(UX1['Low'])\n",
    "UX2['Volatility']=np.log(UX2['High'])-np.log(UX2['Low'])\n",
    "UX1['TIME']=UX1.index.time\n",
    "UX2['TIME']=UX2.index.time"
   ]
  },
  {
   "cell_type": "code",
   "execution_count": null,
   "metadata": {},
   "outputs": [],
   "source": [
    "UX12=pd.concat([UX1,UX2],axis=1, join='inner')\n",
    "UX12.columns=['Open','Close','High','Low','Value','Volume','Number Ticks','Volatility','Time','Open2','Close2','High2','Low2','Value2','Volume2','Number Ticks2','Volatility2','Time2']\n",
    "UX12['Spread']=(UX12['Close2']-UX12['Close'])"
   ]
  },
  {
   "cell_type": "markdown",
   "metadata": {},
   "source": [
    "### Including Extended Hours"
   ]
  },
  {
   "cell_type": "code",
   "execution_count": null,
   "metadata": {},
   "outputs": [],
   "source": [
    "UX1extended=data1.between_time('15:55','17:00')\n",
    "UX2extended=data2.between_time('15:55','17:00')\n",
    "UX1extended['Volatility']=np.log(UX1extended['High'])-np.log(UX1extended['Low'])\n",
    "UX2extended['Volatility']=np.log(UX2extended['High'])-np.log(UX2extended['Low'])\n",
    "UX1extended['TIME']=UX1extended.index.time\n",
    "UX2extended['TIME']=UX2extended.index.time\n",
    "UX1extended['DAY']=UX1extended.index.dayofweek #Monday=0 Sunday=6 for seasonality grouping\n",
    "UX2extended['DAY']=UX2extended.index.dayofweek\n",
    "UX12extended=pd.concat([UX1extended,UX2extended],axis=1, join='inner')\n",
    "UX12extended.columns=['Open','Close','High','Low','Value','Volume','Number Ticks','Volatility','Time','Day','Open2','Close2','High2','Low2','Value2','Volume2','Number Ticks2','Volatility2','Time2','Day2']\n",
    "UX12extended['Spread']=(UX12extended['Close2']-UX12extended['Close'])"
   ]
  },
  {
   "cell_type": "code",
   "execution_count": null,
   "metadata": {},
   "outputs": [],
   "source": [
    "UX12['Date']=UX12.index.date"
   ]
  },
  {
   "cell_type": "code",
   "execution_count": null,
   "metadata": {},
   "outputs": [],
   "source": [
    "def add_week_of_month(df):\n",
    "    df['week_in_month'] = pd.to_numeric(df.index.day/7)\n",
    "    df['week_in_month'] = df['week_in_month'].apply(lambda x: math.ceil(x))\n",
    "    return df\n",
    "UX12extended['Date']=UX12extended.index.date\n",
    "UX12extended=add_week_of_month(UX12extended)"
   ]
  },
  {
   "cell_type": "markdown",
   "metadata": {},
   "source": [
    "### Bid Ask Spread"
   ]
  },
  {
   "cell_type": "code",
   "execution_count": null,
   "metadata": {},
   "outputs": [],
   "source": [
    "df1bid=pd.read_excel(\"C:\\\\Users\\\\raymond.widjaja\\\\Desktop\\\\VIX\\\\VIXBIDASK.xlsx\",\"UX1BID\")\n"
   ]
  },
  {
   "cell_type": "code",
   "execution_count": null,
   "metadata": {},
   "outputs": [],
   "source": [
    "df1ask=pd.read_excel(\"C:\\\\Users\\\\raymond.widjaja\\\\Desktop\\\\VIX\\\\VIXBIDASK.xlsx\",\"UX1ASK\")\n"
   ]
  },
  {
   "cell_type": "code",
   "execution_count": null,
   "metadata": {},
   "outputs": [],
   "source": [
    "df2bid=pd.read_excel(\"C:\\\\Users\\\\raymond.widjaja\\\\Desktop\\\\VIX\\\\VIXBIDASK.xlsx\",\"UX2BID\")\n"
   ]
  },
  {
   "cell_type": "code",
   "execution_count": null,
   "metadata": {},
   "outputs": [],
   "source": [
    "df2ask=pd.read_excel(\"C:\\\\Users\\\\raymond.widjaja\\\\Desktop\\\\VIX\\\\VIXBIDASK.xlsx\",\"UX2ASK\")"
   ]
  },
  {
   "cell_type": "code",
   "execution_count": null,
   "metadata": {},
   "outputs": [],
   "source": [
    "data1bid=df1bid.copy()\n",
    "data1ask=df1ask.copy()\n",
    "data2bid=df2bid.copy()\n",
    "data2ask=df2ask.copy()"
   ]
  },
  {
   "cell_type": "code",
   "execution_count": null,
   "metadata": {},
   "outputs": [],
   "source": [
    "#Set the date index\n",
    "data1bid.set_index('Dates',drop=True,inplace=True)\n",
    "data1ask.set_index('Dates',drop=True,inplace=True)\n",
    "data2bid.set_index('Dates',drop=True,inplace=True)\n",
    "data2ask.set_index('Dates',drop=True,inplace=True)\n",
    "#Localize the HK time zone\n",
    "data1bid.index=pd.to_datetime(data1bid.index).tz_localize('Hongkong') #UTC-5\n",
    "data1ask.index=pd.to_datetime(data1ask.index).tz_localize('Hongkong')\n",
    "data2bid.index=pd.to_datetime(data2bid.index).tz_localize('Hongkong') #UTC-5\n",
    "data2ask.index=pd.to_datetime(data2ask.index).tz_localize('Hongkong')\n",
    "#Conver the HK time zone \n",
    "data1bid.index=pd.to_datetime(data1bid.index).tz_convert('US/Eastern') #UTC-5\n",
    "data1ask.index=pd.to_datetime(data1ask.index).tz_convert('US/Eastern')\n",
    "data2bid.index=pd.to_datetime(data2bid.index).tz_convert('US/Eastern') #UTC-5\n",
    "data2ask.index=pd.to_datetime(data2ask.index).tz_convert('US/Eastern')"
   ]
  },
  {
   "cell_type": "code",
   "execution_count": null,
   "metadata": {},
   "outputs": [],
   "source": [
    "UX1extended=data1.between_time('15:55','17:00')\n",
    "UX2extended=data2.between_time('15:55','17:00')\n",
    "UX1extended['Volatility']=np.log(UX1extended['High'])-np.log(UX1extended['Low'])\n",
    "UX2extended['Volatility']=np.log(UX2extended['High'])-np.log(UX2extended['Low'])\n",
    "UX12extended=pd.concat([UX1extended,UX2extended],axis=1, join='inner')\n",
    "UX12extended.columns=['Open','Close','High','Low','Value','Volume','Number Ticks','Volatility','Time','Day','Open2','Close2','High2','Low2','Value2','Volume2','Number Ticks2','Volatility2','Time2','Day2']\n",
    "UX12extended['Spread']=(UX12extended['Close2']-UX12extended['Close'])"
   ]
  },
  {
   "cell_type": "code",
   "execution_count": null,
   "metadata": {},
   "outputs": [],
   "source": []
  },
  {
   "cell_type": "code",
   "execution_count": null,
   "metadata": {},
   "outputs": [],
   "source": [
    "UX1extendedbid=data1bid.between_time('15:55','17:00')\n",
    "UX1extendedask=data1ask.between_time('15:55','17:00')\n",
    "UX2extendedbid=data2bid.between_time('15:55','17:00')\n",
    "UX2extendedask=data2ask.between_time('15:55','17:00')\n",
    "UX12extendedbidask=pd.concat([UX1extendedbid,UX1extendedask,UX2extendedbid,UX2extendedask],axis=1, join='inner')\n",
    "UX12extendedbidask.columns=['OpenB1','CloseB1','HighB1','LowB1','ValueB1','VolumeB1','Number TicksB1','OpenA1','CloseA1','HighA1','LowA1','ValueA1','VolumeA1','Number TicksA1','OpenB2','CloseB2','HighB2','LowB2','ValueB2','VolumeB2','Number TicksB2','OpenA2','CloseA2','HighA2','LowA2','ValueA2','VolumeA2','Number TicksA2']"
   ]
  },
  {
   "cell_type": "code",
   "execution_count": null,
   "metadata": {},
   "outputs": [],
   "source": [
    "UX12extendedbidask.at_time('15:55')[['CloseB1','CloseA1','CloseB2','CloseA2']]"
   ]
  },
  {
   "cell_type": "markdown",
   "metadata": {},
   "source": [
    "### Normal + Extended"
   ]
  },
  {
   "cell_type": "code",
   "execution_count": null,
   "metadata": {},
   "outputs": [],
   "source": []
  },
  {
   "cell_type": "code",
   "execution_count": null,
   "metadata": {},
   "outputs": [],
   "source": [
    "#to CSV\n",
    "UX1.to_csv(\"C:\\\\Users\\\\raymond.widjaja\\\\Desktop\\\\VIX\\\\UX1_clean.csv\")\n",
    "UX2.to_csv(\"C:\\\\Users\\\\raymond.widjaja\\\\Desktop\\\\VIX\\\\UX2_clean.csv\")\n",
    "UX12.to_csv(\"C:\\\\Users\\\\raymond.widjaja\\\\Desktop\\\\VIX\\\\UX12_clean.csv\")"
   ]
  },
  {
   "cell_type": "code",
   "execution_count": null,
   "metadata": {},
   "outputs": [],
   "source": []
  },
  {
   "cell_type": "markdown",
   "metadata": {},
   "source": [
    "# Analysis"
   ]
  },
  {
   "cell_type": "code",
   "execution_count": null,
   "metadata": {},
   "outputs": [],
   "source": [
    "VOL1=UX1.groupby('TIME').mean()\n",
    "VOL2=UX2.groupby('TIME').mean()\n"
   ]
  },
  {
   "cell_type": "code",
   "execution_count": null,
   "metadata": {},
   "outputs": [],
   "source": [
    "#VOL1['Volatility'].plot(figsize=(16,8))\n",
    "VOL1['Volume'].plot(figsize=(16,8))\n",
    "#VOL1[['Close','Open']].plot(figsize=(16,8))\n",
    "plt.title('First Month Vix Futures Price Average across time')\n",
    "plt.axvline('15:56:00', color='r')\n",
    "#plt.axvline('16:00:00', color='g')"
   ]
  },
  {
   "cell_type": "code",
   "execution_count": null,
   "metadata": {},
   "outputs": [],
   "source": [
    "#VOL2['Volatility'].plot(figsize=(16,8))\n",
    "#VOL2['Volume'].plot(figsize=(16,8))\n",
    "VOL2[['Close','Open']].plot(figsize=(16,8))\n",
    "#VOL1['Number Ticks'].plot(figsize=(16,8))\n",
    "plt.title('Second Month Vix Futures Price Average across time')\n",
    "plt.axvline('15:56:00', color='r')\n",
    "#plt.axvline('15:40:00', color='g')"
   ]
  },
  {
   "cell_type": "code",
   "execution_count": null,
   "metadata": {
    "scrolled": true
   },
   "outputs": [],
   "source": [
    "UX1.groupby('TIME').describe()"
   ]
  },
  {
   "cell_type": "code",
   "execution_count": null,
   "metadata": {},
   "outputs": [],
   "source": [
    "UX12['Close'].plot(figsize=(16,8),label='UX1')\n",
    "UX12['Close2'].plot(figsize=(16,8),label='UX2')\n",
    "plt.legend()\n",
    "plt.show()"
   ]
  },
  {
   "cell_type": "code",
   "execution_count": null,
   "metadata": {},
   "outputs": [],
   "source": [
    "VOL12=UX12.groupby('Time').mean()"
   ]
  },
  {
   "cell_type": "code",
   "execution_count": null,
   "metadata": {},
   "outputs": [],
   "source": [
    "VOL12['Spread'].plot(figsize=(16,8))\n",
    "plt.title('Spread')\n",
    "plt.axvline('15:00:00', color='r')"
   ]
  },
  {
   "cell_type": "markdown",
   "metadata": {},
   "source": [
    "# Analysis (Contango: Specific)"
   ]
  },
  {
   "cell_type": "code",
   "execution_count": null,
   "metadata": {},
   "outputs": [],
   "source": [
    "std"
   ]
  },
  {
   "cell_type": "code",
   "execution_count": null,
   "metadata": {},
   "outputs": [],
   "source": [
    "std=UX12.describe()[['Spread']].T['std'][0]"
   ]
  },
  {
   "cell_type": "code",
   "execution_count": null,
   "metadata": {},
   "outputs": [],
   "source": [
    "UX12Contango=UX12[UX12['Spread']>0.1*std]\n",
    "UX12Back=UX12[UX12['Spread']<-0.1*std]\n",
    "UX12Neutral=UX12[(UX12['Spread']<0.1*std)&(UX12['Spread']>-0.1*std)]"
   ]
  },
  {
   "cell_type": "code",
   "execution_count": null,
   "metadata": {},
   "outputs": [],
   "source": [
    "#UX12['Spread'].plot.hist(bins=30,alpha=0.8)\n",
    "sns.distplot(UX12['Spread'], hist=True, kde=True, \n",
    "             bins=int(180/5), color = 'blue', \n",
    "             hist_kws={'edgecolor':'red'},\n",
    "             kde_kws={'linewidth': 2})\n",
    "plt.title('Density Plot and Histogram of the Spread')\n"
   ]
  },
  {
   "cell_type": "markdown",
   "metadata": {},
   "source": [
    "### Contango"
   ]
  },
  {
   "cell_type": "code",
   "execution_count": null,
   "metadata": {},
   "outputs": [],
   "source": [
    "UX12Contango\n",
    "Cont=UX12Contango.groupby('Time').mean()\n",
    "Cont[['Volume']].plot(figsize=(16,8),label='UX1')\n",
    "plt.title('Contango VIX 1st Month Volume')\n",
    "plt.axvline('15:56:00', color='r')\n",
    "plt.show()"
   ]
  },
  {
   "cell_type": "code",
   "execution_count": null,
   "metadata": {},
   "outputs": [],
   "source": [
    "Cont[['Volume2']].plot(figsize=(16,8),label='UX2')\n",
    "plt.title('Contango VIX 2nd Month Volume')\n",
    "plt.axvline('15:56:00', color='r')\n",
    "plt.show()"
   ]
  },
  {
   "cell_type": "code",
   "execution_count": null,
   "metadata": {},
   "outputs": [],
   "source": [
    "Cont['Volatility'].plot(figsize=(16,8))\n",
    "plt.title(\"Contago VIX 1st month Volatility\")\n",
    "plt.axvline('15:00:00', color='r')"
   ]
  },
  {
   "cell_type": "code",
   "execution_count": null,
   "metadata": {},
   "outputs": [],
   "source": [
    "Cont['Volatility2'].plot(figsize=(16,8))\n",
    "plt.title(\"Contago VIX 2nd month Volatility\")\n",
    "plt.axvline('15:00:00', color='r')"
   ]
  },
  {
   "cell_type": "code",
   "execution_count": null,
   "metadata": {
    "scrolled": true
   },
   "outputs": [],
   "source": [
    "Cont[['Close','Open']].plot(figsize=(16,8))\n",
    "plt.title('Contango 2nd Month Vix Futures Price Average across time')\n",
    "plt.axvline('15:00:00', color='r')\n",
    "#plt.axvline('15:40:00', color='g')"
   ]
  },
  {
   "cell_type": "code",
   "execution_count": null,
   "metadata": {},
   "outputs": [],
   "source": []
  },
  {
   "cell_type": "markdown",
   "metadata": {},
   "source": [
    "### Backwardation"
   ]
  },
  {
   "cell_type": "code",
   "execution_count": null,
   "metadata": {},
   "outputs": [],
   "source": [
    "UX12Back\n",
    "Back=UX12Back.groupby('Time').mean()\n",
    "Back[['Volume']].plot(figsize=(16,8),label='UX1')\n",
    "plt.title('Backwardation VIX 1st Month Volume')\n",
    "plt.axvline('15:56:00', color='r')\n",
    "plt.axvline('9:47:00', color='g')\n",
    "plt.axvline('9:53:00', color='g')\n",
    "#plt.axvline('10:28:00', color='g')\n",
    "#plt.axvline('10:40:00', color='g')\n",
    "plt.show()"
   ]
  },
  {
   "cell_type": "code",
   "execution_count": null,
   "metadata": {},
   "outputs": [],
   "source": [
    "Back[['Volume2']].plot(figsize=(16,8),label='UX2')\n",
    "plt.title('Backwardation VIX 2nd Month Volume')\n",
    "plt.axvline('15:56:00', color='r')\n",
    "plt.axvline('10:57:00', color='g')\n",
    "plt.axvline('11:07:00', color='g')\n",
    "plt.show()"
   ]
  },
  {
   "cell_type": "code",
   "execution_count": null,
   "metadata": {},
   "outputs": [],
   "source": [
    "Back['Volatility'].plot(figsize=(16,8)) #/volatility2\n",
    "plt.title(\"Backwardation VIX 1st month Volatility\")\n",
    "plt.axvline('15:00:00', color='r')"
   ]
  },
  {
   "cell_type": "code",
   "execution_count": null,
   "metadata": {},
   "outputs": [],
   "source": [
    "Back[['Close','Open']].plot(figsize=(16,8))\n",
    "plt.title('Backwardation 1st Month Vix Futures Price Average across time')\n",
    "plt.axvline('15:00:00', color='r')\n",
    "#plt.axvline('15:40:00', color='g')"
   ]
  },
  {
   "cell_type": "code",
   "execution_count": null,
   "metadata": {},
   "outputs": [],
   "source": []
  },
  {
   "cell_type": "markdown",
   "metadata": {},
   "source": [
    "### Neutral"
   ]
  },
  {
   "cell_type": "code",
   "execution_count": null,
   "metadata": {},
   "outputs": [],
   "source": [
    "UX12Neutral\n",
    "Neutral=UX12Neutral.groupby('Time').mean()\n",
    "Neutral[['Volume']].plot(figsize=(16,8),label='UX1')\n",
    "plt.title('Neutral VIX 1st Month Volume')\n",
    "plt.axvline('15:56:00', color='r')\n",
    "plt.show()"
   ]
  },
  {
   "cell_type": "code",
   "execution_count": null,
   "metadata": {},
   "outputs": [],
   "source": [
    "Neutral[['Volume2']].plot(figsize=(16,8),label='UX2')\n",
    "plt.title('Neutral VIX 2nd Month Volume')\n",
    "#plt.axvline('15:56:00', color='r')\n",
    "plt.show()"
   ]
  },
  {
   "cell_type": "code",
   "execution_count": null,
   "metadata": {
    "scrolled": true
   },
   "outputs": [],
   "source": [
    "Neutral['Volatility'].plot(figsize=(16,8))\n",
    "plt.title(\"Neutral VIX 1st month Volatility\")\n",
    "plt.axvline('15:00:00', color='r')\n",
    "plt.axvline('13:58:00', color='g')\n",
    "plt.axvline('14:03:00', color='g')"
   ]
  },
  {
   "cell_type": "code",
   "execution_count": null,
   "metadata": {},
   "outputs": [],
   "source": [
    "Neutral['Volatility2'].plot(figsize=(16,8))\n",
    "plt.title(\"Neutral VIX 2nd month Volatility\")\n",
    "plt.axvline('15:00:00', color='r')\n",
    "plt.axvline('13:58:00', color='g')\n",
    "plt.axvline('14:03:00', color='g')"
   ]
  },
  {
   "cell_type": "code",
   "execution_count": null,
   "metadata": {
    "scrolled": true
   },
   "outputs": [],
   "source": [
    "Neutral[['Close2','Open2']].plot(figsize=(16,8))\n",
    "plt.title('Neutral 2nd Month Vix Futures Price Average across time')\n",
    "plt.axvline('15:00:00', color='r')\n",
    "plt.axvline('15:30:00', color='g')"
   ]
  },
  {
   "cell_type": "markdown",
   "metadata": {},
   "source": [
    "# After Extended Hour"
   ]
  },
  {
   "cell_type": "code",
   "execution_count": null,
   "metadata": {},
   "outputs": [],
   "source": [
    "VOL12extended=UX12extended.groupby('Time').mean()"
   ]
  },
  {
   "cell_type": "code",
   "execution_count": null,
   "metadata": {},
   "outputs": [],
   "source": [
    "(UX12extended['Spread']<0).sum()\n"
   ]
  },
  {
   "cell_type": "code",
   "execution_count": null,
   "metadata": {},
   "outputs": [],
   "source": [
    "VOL12extended['Volume2'].plot(figsize=(16,8))\n",
    "#VOL12extended[['Close','Open']].plot(figsize=(16,8))\n",
    "plt.title('2nd Month Vix Futures Volume Average across time')\n",
    "plt.axvline('16:14:00', color='r')\n",
    "#plt.axvline('16:00:00', color='g')"
   ]
  },
  {
   "cell_type": "code",
   "execution_count": null,
   "metadata": {},
   "outputs": [],
   "source": [
    "VOL12extended[['Close2','Open2']].plot(figsize=(16,8))\n",
    "plt.title('2nd Month Vix Futures Price Average across time')\n",
    "plt.axvline('16:30:00', color='r')\n",
    "plt.axvline('16:50:00', color='g')"
   ]
  },
  {
   "cell_type": "code",
   "execution_count": null,
   "metadata": {},
   "outputs": [],
   "source": [
    "VOL12extended['Volatility'].plot(figsize=(16,8))\n",
    "plt.title('1st Month Vix Futures Volatility Average across time')\n",
    "plt.axvline('16:30:00', color='r')"
   ]
  },
  {
   "cell_type": "code",
   "execution_count": null,
   "metadata": {},
   "outputs": [],
   "source": [
    "VOL12extended['Value2'].plot(figsize=(16,8))\n",
    "plt.title('2nd Month Vix Futures Value Average across time')\n",
    "plt.axvline('16:30:00', color='r')"
   ]
  },
  {
   "cell_type": "code",
   "execution_count": null,
   "metadata": {
    "scrolled": true
   },
   "outputs": [],
   "source": [
    "VOL12extended.head()"
   ]
  },
  {
   "cell_type": "code",
   "execution_count": null,
   "metadata": {},
   "outputs": [],
   "source": [
    "def fm_summary(p):#Summary Statistics Function\n",
    "    t=pd.Series((v for v in p ))\n",
    "    s = t.describe().T\n",
    "    s['Up Mean']=p[p>0].mean()\n",
    "    s['Down Mean']=p[p<0].mean()\n",
    "    s['Up Median']=p[p>0].median()\n",
    "    s['Down Median']=p[p<0].median()\n",
    "    s['std_error'] = s['std']/np.sqrt(s['count'])\n",
    "    s['tstat'] = s['mean']/s['std_error']\n",
    "    s['Up']=t[t>0].count()\n",
    "    s['Down']=t[t<0].count()\n",
    "    s['breakeven']=t[t==0].count()\n",
    "    s['Up(%)']=t[t>0].count()/s['count']\n",
    "    s['Down(%)']=t[t<0].count()/s['count']\n",
    "    return s[['count','mean','Up','Down','breakeven','Up Mean','Down Mean','Up Median','Down Median','Up(%)','Down(%)']].T\n"
   ]
  },
  {
   "cell_type": "markdown",
   "metadata": {},
   "source": [
    "# Contango, Backwardation and Neutral State"
   ]
  },
  {
   "cell_type": "code",
   "execution_count": null,
   "metadata": {},
   "outputs": [],
   "source": [
    "stde=UX12extended.describe()[['Spread']].T['std'][0]\n",
    "UX12extendedContango=UX12extended[UX12extended['Spread']>0.1*std]\n",
    "UX12extendedBack=UX12extended[UX12extended['Spread']<-0.1*std]\n",
    "UX12extendedNeutral=UX12extended[(UX12extended['Spread']<0.1*std)&(UX12extended['Spread']>-0.1*std)]"
   ]
  },
  {
   "cell_type": "code",
   "execution_count": null,
   "metadata": {},
   "outputs": [],
   "source": [
    "UX12extended.describe()[['Spread']]"
   ]
  },
  {
   "cell_type": "code",
   "execution_count": null,
   "metadata": {},
   "outputs": [],
   "source": [
    "contbidask=pd.concat([UX12extendedContango['Spread'],UX12extendedbidask[['CloseB1','CloseA1','CloseB2','CloseA2']]],axis=1,join='inner')\n",
    "contbidask.columns=['Spread','Bid1','Ask1','Bid2','Ask2']\n",
    "contbidask"
   ]
  },
  {
   "cell_type": "code",
   "execution_count": null,
   "metadata": {},
   "outputs": [],
   "source": []
  },
  {
   "cell_type": "markdown",
   "metadata": {},
   "source": [
    "# Contango [MAIN]"
   ]
  },
  {
   "cell_type": "code",
   "execution_count": null,
   "metadata": {},
   "outputs": [],
   "source": [
    "UX12extendedContango\n",
    "ContExt=UX12extendedContango.groupby('Time').mean()\n",
    "ContExt[['Spread']].plot(figsize=(16,8),label='UX1')\n",
    "plt.title('Contango VIX 1nd Month Price')\n",
    "plt.axvline('15:55:00', color='b')\n",
    "plt.axvline('16:00:00', color='r')\n",
    "plt.axvline('16:14:00', color='y')\n",
    "plt.axvline('16:05:00', color='g')\n",
    "#plt.show()"
   ]
  },
  {
   "cell_type": "code",
   "execution_count": null,
   "metadata": {},
   "outputs": [],
   "source": []
  },
  {
   "cell_type": "code",
   "execution_count": null,
   "metadata": {},
   "outputs": [],
   "source": [
    "a=UX12extendedContango.at_time('15:55').set_index('Date')['Spread']\n",
    "b=UX12extendedContango.at_time('16:00').set_index('Date')['Spread']\n",
    "c=UX12extendedContango.at_time('16:05').set_index('Date')['Spread']\n",
    "d=UX12extendedContango.at_time('16:14').set_index('Date')['Spread']\n",
    "f=UX12Contango.at_time('15:00').set_index('Date')['ATRSpread']\n",
    "g=UX12Contango.at_time('15:55').set_index('Date')['ATRSpread']\n",
    "contangostat=pd.concat([a,b,c,d,f,g],axis=1,join='inner')\n",
    "contangostat.columns=['State1','State2','State3','Closing','ATR15:00','ATR15:55']\n",
    "contangostat['Singal']=(contangostat['ATR15:55']/contangostat['ATR15:00'])-1\n",
    "contangostat['Long at 15:55']=contangostat['Closing']-contangostat['State1']\n",
    "contangostat['Long at 16:00']=contangostat['Closing']-contangostat['State2']\n",
    "contangostat['Long at 16:05']=contangostat['Closing']-contangostat['State3']\n"
   ]
  },
  {
   "cell_type": "markdown",
   "metadata": {},
   "source": [
    "### ATR Strategy Development"
   ]
  },
  {
   "cell_type": "code",
   "execution_count": null,
   "metadata": {},
   "outputs": [],
   "source": [
    "contangostat.to_excel('C:\\\\Users\\\\raymond.widjaja\\\\Desktop\\\\VIX\\\\statistics.xlsx')"
   ]
  },
  {
   "cell_type": "code",
   "execution_count": null,
   "metadata": {},
   "outputs": [],
   "source": [
    "contangostatt"
   ]
  },
  {
   "cell_type": "code",
   "execution_count": null,
   "metadata": {},
   "outputs": [],
   "source": [
    "#Change in ATR in the last hour is greater than 0.2\n",
    "contangostatt=contangostat[contangostat['Singal']>0.2]"
   ]
  },
  {
   "cell_type": "code",
   "execution_count": null,
   "metadata": {},
   "outputs": [],
   "source": [
    "contangostatt2=contangostat[((contangostat['Singal']<-0.2))] #change in the ATR in the last hour is least than 0.2"
   ]
  },
  {
   "cell_type": "code",
   "execution_count": null,
   "metadata": {},
   "outputs": [],
   "source": [
    "model=sm.OLS(contangostat['Long at 15:55'],contangostat['Singal'])\n"
   ]
  },
  {
   "cell_type": "markdown",
   "metadata": {},
   "source": [
    "### Long"
   ]
  },
  {
   "cell_type": "code",
   "execution_count": null,
   "metadata": {
    "scrolled": false
   },
   "outputs": [],
   "source": [
    "contSUM=pd.concat([fm_summary(contangostatt['Long at 15:55']),fm_summary(contangostatt['Long at 16:00']),fm_summary(contangostatt['Long at 16:05'])],axis=1)\n",
    "contSUM.columns=['Long 15:55','Long 16:00','Long 16:05']\n",
    "contSUM=contSUM.round(3)\n",
    "contSUM.style.set_caption(\"CONTANGO\")"
   ]
  },
  {
   "cell_type": "markdown",
   "metadata": {},
   "source": [
    "### Short"
   ]
  },
  {
   "cell_type": "code",
   "execution_count": null,
   "metadata": {},
   "outputs": [],
   "source": [
    "contSUM2=pd.concat([fm_summary(contangostatt2['Long at 15:55']),fm_summary(contangostatt2['Long at 16:00']),fm_summary(contangostatt2['Long at 16:05'])],axis=1)\n",
    "contSUM2.columns=['Long 15:55','Long 16:00','Long 16:05']\n",
    "contSUM2=contSUM2.round(3)\n",
    "contSUM2.style.set_caption(\"CONTANGO\")"
   ]
  },
  {
   "cell_type": "code",
   "execution_count": null,
   "metadata": {},
   "outputs": [],
   "source": [
    "sns.distplot(contangostat['Long at 15:55'], hist=True, kde=True, \n",
    "             bins=int(180/5), color = 'blue', \n",
    "             hist_kws={'edgecolor':'red'},\n",
    "             kde_kws={'linewidth': 2})\n",
    "plt.title('Density Plot and Histogram of the Long')\n",
    "plt.axvline(0)\n"
   ]
  },
  {
   "cell_type": "code",
   "execution_count": null,
   "metadata": {},
   "outputs": [],
   "source": [
    "sns.scatterplot(contangostat['Singal'],contangostat['Long at 15:55'])\n",
    "plt.axhline(0)\n",
    "plt.axvline(0.2,color='red')"
   ]
  },
  {
   "cell_type": "markdown",
   "metadata": {},
   "source": [
    "### With bid ask spread"
   ]
  },
  {
   "cell_type": "code",
   "execution_count": null,
   "metadata": {},
   "outputs": [],
   "source": []
  },
  {
   "cell_type": "code",
   "execution_count": null,
   "metadata": {},
   "outputs": [],
   "source": [
    "contbidask['bidasktotalspread']=((contbidask['Ask1']-contbidask['Bid1'])+(contbidask['Ask2']-contbidask['Bid2']))/2\n",
    "contbidask['bidasktotalspread']"
   ]
  },
  {
   "cell_type": "code",
   "execution_count": null,
   "metadata": {},
   "outputs": [],
   "source": [
    "contbidask[contbidask['bidasktotalspread']<0].head(5)"
   ]
  },
  {
   "cell_type": "code",
   "execution_count": null,
   "metadata": {},
   "outputs": [],
   "source": []
  },
  {
   "cell_type": "code",
   "execution_count": null,
   "metadata": {},
   "outputs": [],
   "source": [
    "aS=contbidask.at_time('15:55')\n",
    "bS=contbidask.at_time('16:00')\n",
    "cS=contbidask.at_time('16:05')\n",
    "dS=contbidask.at_time('16:14')\n",
    "eS=contbidask.at_time('16:12')\n",
    "aS=aS['bidasktotalspread']\n",
    "bS=bS['bidasktotalspread']\n",
    "cS=cS['bidasktotalspread']\n",
    "dS=dS['bidasktotalspread']\n",
    "eS=eS['bidasktotalspread']\n",
    "aS.index=aS.index.date\n",
    "bS.index=bS.index.date\n",
    "cS.index=cS.index.date\n",
    "dS.index=dS.index.date\n",
    "eS.index=eS.index.date"
   ]
  },
  {
   "cell_type": "code",
   "execution_count": null,
   "metadata": {},
   "outputs": [],
   "source": [
    "contangostatt2\n",
    "fm_summary(contangostatt2['Long at 15:55'])"
   ]
  },
  {
   "cell_type": "markdown",
   "metadata": {},
   "source": [
    "### ATR strategy development"
   ]
  },
  {
   "cell_type": "markdown",
   "metadata": {},
   "source": [
    "### Long"
   ]
  },
  {
   "cell_type": "code",
   "execution_count": null,
   "metadata": {},
   "outputs": [],
   "source": [
    "contangostatS=pd.concat([contangostatt,aS,bS,cS,dS,eS],axis=1,join='inner') #Slight change contangstatt / contangostat\n",
    "list2=contangostat.columns.tolist()\n",
    "list2.append('bs1')\n",
    "list2.append('bs2')\n",
    "list2.append('bs3')\n",
    "list2.append('bs4')\n",
    "list2.append('bs5')\n",
    "contangostatS.columns=list2"
   ]
  },
  {
   "cell_type": "code",
   "execution_count": null,
   "metadata": {},
   "outputs": [],
   "source": [
    "#contangostatS.head(20)"
   ]
  },
  {
   "cell_type": "code",
   "execution_count": null,
   "metadata": {},
   "outputs": [],
   "source": [
    "contangostatS['Long at 15:55 w/ spread']=contangostatS['Long at 15:55']-(contangostatS['bs1']+contangostatS['bs4'])\n",
    "contangostatS['Long at 16:00 w/ spread']=contangostatS['Long at 16:00']-(contangostatS['bs2']+contangostatS['bs4'])\n",
    "contangostatS['Long at 16:05 w/ spread']=contangostatS['Long at 16:05']-(contangostatS['bs3']+contangostatS['bs4'])\n"
   ]
  },
  {
   "cell_type": "code",
   "execution_count": null,
   "metadata": {},
   "outputs": [],
   "source": [
    "contangostatS['Long at 15:55 pct change']=contangostatS['Long at 15:55 w/ spread']/contangostatS['State1']\n"
   ]
  },
  {
   "cell_type": "markdown",
   "metadata": {},
   "source": [
    "## Backtest Summary"
   ]
  },
  {
   "cell_type": "code",
   "execution_count": null,
   "metadata": {},
   "outputs": [],
   "source": [
    "def fm_summaryS(p,p2):#Summary Statistics Function\n",
    "    t=pd.Series((v for v in p ))\n",
    "    t2=pd.Series((w for w in p2))\n",
    "    s = t.describe().T\n",
    "    t3=pd.concat([t[t>0],t2],axis=1,join='inner') #Up\n",
    "    t3[1]\n",
    "    t4=pd.concat([t[t<0],t2],axis=1,join='inner') #Down\n",
    "    \n",
    "    s['Up Mean']=t3[1].mean()\n",
    "    s['Down Mean']=t4[1].mean()\n",
    "    s['Up Median']=t3[1].median()\n",
    "    s['Down Median']=t4[1].median()\n",
    "    s['std_error'] = s['std']/np.sqrt(s['count'])\n",
    "    s['tstat'] = s['mean']/s['std_error']\n",
    "    s['Up']=t[t>0].count()\n",
    "    s['Down']=t[t<0].count()\n",
    "    s['breakeven']=t[t==0].count()\n",
    "    s['Up(%)']=t[t>0].count()/s['count']\n",
    "    s['Down(%)']=t[t<0].count()/s['count']\n",
    "    s['Expected Value']=(s['Up(%)']*s['Up Mean'])+(s['Down Mean']*s['Down(%)'])\n",
    "    return s[['count','mean','Up','Down','breakeven','Up Mean','Down Mean','Up Median','Down Median','Up(%)','Down(%)','Expected Value']].T\n"
   ]
  },
  {
   "cell_type": "code",
   "execution_count": null,
   "metadata": {},
   "outputs": [],
   "source": [
    "pd.concat([contangostatt2,aS,bS,cS,dS,eS],axis=1,join='inner')"
   ]
  },
  {
   "cell_type": "code",
   "execution_count": null,
   "metadata": {
    "scrolled": true
   },
   "outputs": [],
   "source": [
    "def losedate(p1):\n",
    "    ldate=p1[p1['Long at 15:55']<0].index.tolist()\n",
    "    return ldate\n",
    "    "
   ]
  },
  {
   "cell_type": "code",
   "execution_count": null,
   "metadata": {
    "scrolled": false
   },
   "outputs": [],
   "source": [
    "contSUMbidask=pd.concat([fm_summaryS(contangostatS['Long at 15:55'],contangostatS['Long at 15:55 w/ spread']),fm_summaryS(contangostatS['Long at 16:00'],contangostatS['Long at 16:00 w/ spread']),fm_summaryS(contangostatS['Long at 16:05'],contangostatS['Long at 16:05 w/ spread'])],axis=1)\n",
    "contSUMbidask.columns=['Long 15:55 w/S','Long 16:00 w/S','Long 16:05 w/S']\n",
    "contSUMbidask=contSUMbidask.round(4)\n",
    "contSUMbidask.style.set_caption(\"CONTANGO with average spread [ Assume we just take LONG position when change in ATR>0.2 ]\")"
   ]
  },
  {
   "cell_type": "code",
   "execution_count": null,
   "metadata": {},
   "outputs": [],
   "source": [
    "import pyfolio as pf"
   ]
  },
  {
   "cell_type": "code",
   "execution_count": null,
   "metadata": {},
   "outputs": [],
   "source": [
    "stratret=contangostatS['Long at 15:55 pct change'].copy()\n",
    "stratret.index=pd.to_datetime(stratret.index).tz_localize('US/Eastern')"
   ]
  },
  {
   "cell_type": "code",
   "execution_count": null,
   "metadata": {},
   "outputs": [],
   "source": [
    "contangostatS['cumret15:55']=(1+contangostatS['Long at 15:55 pct change']).cumprod()"
   ]
  },
  {
   "cell_type": "code",
   "execution_count": null,
   "metadata": {},
   "outputs": [],
   "source": [
    "contangostatS"
   ]
  },
  {
   "cell_type": "code",
   "execution_count": null,
   "metadata": {},
   "outputs": [],
   "source": []
  },
  {
   "cell_type": "markdown",
   "metadata": {},
   "source": [
    "# ====================="
   ]
  },
  {
   "cell_type": "code",
   "execution_count": null,
   "metadata": {},
   "outputs": [],
   "source": [
    "atr\n",
    "contSUMbidask=pd.concat([fm_summaryS(contangostatS['Long at 15:55'],contangostatS['Long at 15:55 w/ spread']),fm_summaryS(contangostatS['Long at 16:00'],contangostatS['Long at 16:00 w/ spread']),fm_summaryS(contangostatS['Long at 16:05'],contangostatS['Long at 16:05 w/ spread'])],axis=1)\n",
    "contSUMbidask.columns=['Long 15:55 w/S','Long 16:00 w/S','Long 16:05 w/S']\n",
    "contSUMbidask=contSUMbidask.round(4)\n",
    "contSUMbidask.style.set_caption(\"CONTANGO with average spread [ Assume we just take LONG position ]\")"
   ]
  },
  {
   "cell_type": "code",
   "execution_count": null,
   "metadata": {
    "scrolled": true
   },
   "outputs": [],
   "source": [
    "\n",
    "UX12Contango['ATR']=ta.ATR((UX12Contango['High2']-UX12Contango['High']),(UX12Contango['Low2']-UX12Contango['Low']),(UX12Contango['Close2']-UX12Contango['Close']),timeperiod=14)\n",
    "UX12Contango['Spread'].plot(figsize=(16,8),label='UX1')\n",
    "plt.legend()\n",
    "plt.title('Contango')\n",
    "plt.show()"
   ]
  },
  {
   "cell_type": "code",
   "execution_count": null,
   "metadata": {},
   "outputs": [],
   "source": []
  },
  {
   "cell_type": "code",
   "execution_count": null,
   "metadata": {
    "scrolled": true
   },
   "outputs": [],
   "source": [
    "#ATR spread calculuation \n",
    "UX12Contango['Close'].plot(figsize=(16,8),label='UX1')\n",
    "UX12Contango['Close2'].plot(figsize=(16,8),label='UX2')\n",
    "UX12Contango['ATR']=ta.ATR(UX12Contango['High'],UX12Contango['Low'],UX12Contango['Close'],timeperiod=14)\n",
    "UX12Contango['ATR2']=ta.ATR(UX12Contango['High2'],UX12Contango['Low2'],UX12Contango['Close2'],timeperiod=14)\n",
    "UX12Contango['SpreadH']=UX12Contango['High2']-UX12Contango['Low']\n",
    "UX12Contango['SpreadL']=UX12Contango['Low2']-UX12Contango['High']\n",
    "UX12Contango['ATRSpread']=ta.ATR(UX12Contango['SpreadH'],UX12Contango['SpreadL'],UX12Contango['Spread'],timeperiod=14)\n",
    "plt.legend()\n",
    "plt.axvline('15:55', color='g')\n",
    "plt.show()\n"
   ]
  },
  {
   "cell_type": "markdown",
   "metadata": {},
   "source": [
    "### Change datetime index to date"
   ]
  },
  {
   "cell_type": "code",
   "execution_count": null,
   "metadata": {},
   "outputs": [],
   "source": [
    "testCT=UX12Contango.copy()"
   ]
  },
  {
   "cell_type": "code",
   "execution_count": null,
   "metadata": {},
   "outputs": [],
   "source": [
    "testCT.index=testCT.index.date\n",
    "testCT\n",
    "testCT['Close'].iloc[:20000].plot(figsize=(16,8),label='UX1')\n",
    "testCT['Close2'].iloc[:20000].plot(figsize=(16,8),label='UX2')\n",
    "\n",
    "plt.axvline(lodate[0], color='r')\n",
    "plt.axvline(lodate[1], color='r')\n",
    "plt.axvline(lodate[2], color='r')\n",
    "plt.axvline(lodate[3], color='r')\n",
    "plt.axvline(lodate[4], color='r')\n",
    "plt.axvline(lodate[5], color='r')\n",
    "plt.axvline(lodate[6], color='r')\n",
    "plt.axvline(lodate[7], color='r')\n",
    "plt.axvline(lodate[8], color='r')\n",
    "plt.axvline(lodate[9], color='r')\n",
    "plt.axvline(lodate[10], color='r')\n",
    "plt.axvline(lodate[11], color='r')\n",
    "plt.axvline(lodate[12], color='r')\n",
    "plt.axvline(lodate[13], color='r')\n",
    "#for i in lodate:\n",
    "    #plt.axvline(i, color='r')\n",
    "    \n",
    "plt.legend()"
   ]
  },
  {
   "cell_type": "code",
   "execution_count": null,
   "metadata": {},
   "outputs": [],
   "source": [
    "testCT\n",
    "testCT['Close'].iloc[20000:].plot(figsize=(16,8),label='UX1')\n",
    "testCT['Close2'].iloc[20000:].plot(figsize=(16,8),label='UX2')\n",
    "\n",
    "plt.axvline(lodate[14], color='r')\n",
    "plt.axvline(lodate[15], color='r')\n",
    "plt.axvline(lodate[16], color='r')\n",
    "plt.axvline(lodate[17], color='r')\n",
    "plt.axvline(lodate[18], color='r')\n",
    "plt.axvline(lodate[19], color='r')\n",
    "plt.axvline(lodate[20], color='r')\n",
    "plt.axvline(lodate[21], color='r')\n",
    "plt.axvline(lodate[22], color='r')\n",
    "plt.axvline(lodate[23], color='r')\n",
    "plt.axvline(lodate[24], color='r')\n",
    "plt.axvline(lodate[25], color='r')\n",
    "plt.axvline(lodate[26], color='r')\n",
    "plt.axvline(lodate[27], color='r')\n",
    "#for i in lodate:\n",
    "    #plt.axvline(i, color='r')\n",
    "    \n",
    "plt.legend()"
   ]
  },
  {
   "cell_type": "code",
   "execution_count": null,
   "metadata": {
    "scrolled": true
   },
   "outputs": [],
   "source": [
    "contangostat"
   ]
  },
  {
   "cell_type": "code",
   "execution_count": null,
   "metadata": {},
   "outputs": [],
   "source": [
    "lodate=losedate(contangostatS)\n"
   ]
  },
  {
   "cell_type": "code",
   "execution_count": null,
   "metadata": {},
   "outputs": [],
   "source": [
    "losses=pd.DataFrame(pd.DatetimeIndex(lodate).dayofweek.tolist(),columns=['Day'])\n",
    "losses['Down']=1\n",
    "losses.groupby('Day').count()"
   ]
  },
  {
   "cell_type": "code",
   "execution_count": null,
   "metadata": {},
   "outputs": [],
   "source": [
    "testCT['ATR'].iloc[:20000].plot(figsize=(16,8),label='ATR UX1')\n",
    "testCT['ATR2'].iloc[:20000].plot(figsize=(16,8),label='ATR UX2')\n",
    "plt.legend()\n",
    "#for i in lodate:\n",
    "    #plt.axvline(i, color='r')\n",
    "plt.axvline(lodate[0], color='r')\n",
    "plt.axvline(lodate[1], color='r')\n",
    "plt.axvline(lodate[2], color='r')\n",
    "plt.axvline(lodate[3], color='r')\n",
    "plt.axvline(lodate[4], color='r')\n",
    "plt.axvline(lodate[5], color='r')\n",
    "plt.axvline(lodate[6], color='r')\n",
    "plt.axvline(lodate[7], color='r')\n",
    "plt.axvline(lodate[8], color='r')\n",
    "plt.axvline(lodate[9], color='r')\n",
    "plt.axvline(lodate[10], color='r')\n",
    "plt.axvline(lodate[11], color='r')\n",
    "plt.axvline(lodate[12], color='r')\n",
    "plt.axvline(lodate[13], color='r')"
   ]
  },
  {
   "cell_type": "code",
   "execution_count": null,
   "metadata": {},
   "outputs": [],
   "source": [
    "testCT['ATR'].iloc[20000:].plot(figsize=(16,8),label='ATR UX1')\n",
    "testCT['ATR2'].iloc[20000:].plot(figsize=(16,8),label='ATR UX2')\n",
    "plt.legend()\n",
    "#for i in lodate:\n",
    "    #plt.axvline(i, color='r')\n",
    "plt.axvline(lodate[14], color='r')\n",
    "plt.axvline(lodate[15], color='r')\n",
    "plt.axvline(lodate[16], color='r')\n",
    "plt.axvline(lodate[17], color='r')\n",
    "plt.axvline(lodate[18], color='r')\n",
    "plt.axvline(lodate[19], color='r')\n",
    "plt.axvline(lodate[20], color='r')\n",
    "plt.axvline(lodate[21], color='r')\n",
    "plt.axvline(lodate[22], color='r')\n",
    "plt.axvline(lodate[23], color='r')\n",
    "plt.axvline(lodate[24], color='r')\n",
    "plt.axvline(lodate[25], color='r')\n",
    "plt.axvline(lodate[26], color='r')\n",
    "plt.axvline(lodate[27], color='r')\n"
   ]
  },
  {
   "cell_type": "markdown",
   "metadata": {},
   "source": [
    "## ATR ANALYSIS"
   ]
  },
  {
   "cell_type": "code",
   "execution_count": null,
   "metadata": {
    "scrolled": true
   },
   "outputs": [],
   "source": [
    "UX12Contango['ATR'].loc[datetime.datetime(2020,5,15,9,30):datetime.datetime(2020,5,15,16,0)].plot(figsize=(16,8),label='ATR UX1')\n",
    "UX12Contango['ATR2'].loc[datetime.datetime(2020,5,15,9,30):datetime.datetime(2020,5,15,16,0)].plot(figsize=(16,8),label='ATR UX2')\n",
    "plt.title('ATR 15 May')\n",
    "plt.axhline(UX12Contango['ATR'].loc[datetime.datetime(2020,5,15,9,45)]/2)\n",
    "plt.legend()"
   ]
  },
  {
   "cell_type": "markdown",
   "metadata": {},
   "source": [
    "## ATR SPREAD"
   ]
  },
  {
   "cell_type": "code",
   "execution_count": null,
   "metadata": {},
   "outputs": [],
   "source": [
    "m=9\n",
    "d=3\n",
    "beg=datetime.datetime(2020,m,d,9,30)\n",
    "end=datetime.datetime(2020,m,d,16,0)\n",
    "aZ=datetime.datetime(2020,m,d,19,55)#CHANGE TO 20:55 AFTER DAY IGHT SAVING HOUR\n",
    "aT=datetime.datetime(2020,m,d,19,0)\n",
    "beg1=datetime.datetime(2020,m,d,9,45)\n",
    "begext=datetime.datetime(2020,m,d,15,55)\n",
    "endext=datetime.datetime(2020,m,d,16,14)"
   ]
  },
  {
   "cell_type": "code",
   "execution_count": null,
   "metadata": {},
   "outputs": [],
   "source": [
    "UX12Contango['ATRSpread'].loc[beg:end].plot(figsize=(16,8),label='ATR Spread') \n",
    "plt.title('ATR Spread 8 June')\n",
    "#plt.axhline(UX12Contango['ATRSpread'].loc[beg1]/2)\n",
    "UX12Contango['ATRSpread'].rolling(150).mean().loc[beg:end].plot(figsize=(16,8),label='ATRSpread MA150') \n",
    "plt.legend()\n",
    "plt.axvline(aZ,color='r')\n",
    "plt.axvline(aT,color='r')\n",
    "plt.axhline(0.11)\n",
    "plt.axhline(0.15)"
   ]
  },
  {
   "cell_type": "code",
   "execution_count": null,
   "metadata": {},
   "outputs": [],
   "source": [
    "UX12Contango['ATRSpread'].loc[beg:end].tail(7)"
   ]
  },
  {
   "cell_type": "code",
   "execution_count": null,
   "metadata": {},
   "outputs": [],
   "source": [
    "0.297"
   ]
  },
  {
   "cell_type": "code",
   "execution_count": null,
   "metadata": {},
   "outputs": [],
   "source": [
    "plt.subplot(1,2,1)\n",
    "UX12Contango['Spread'].loc[beg:end].plot(figsize=(16,8))\n",
    "plt.title('Spread')\n",
    "UX12Contango['Spread'].rolling(70).mean().loc[beg:end].plot(figsize=(16,8))\n",
    "ag=datetime.datetime(2020,m,d,19,55)\n",
    "plt.axvline(ag,color='r')\n",
    "plt.subplot(1,2, 2)\n",
    "UX12extendedContango['Spread'].loc[begext:endext].plot(figsize=(16,8))\n",
    "plt.title('Spread in ext')\n",
    "aT=datetime.datetime(2020,m,d,20,14)  # 21:`13AFTER DLIGHT SAVING\n",
    "plt.axvline(aT,color='r')"
   ]
  },
  {
   "cell_type": "code",
   "execution_count": null,
   "metadata": {},
   "outputs": [],
   "source": [
    "UX12Contango['Spread'].rolling(90).mean().loc[beg:end].tail(7)"
   ]
  },
  {
   "cell_type": "code",
   "execution_count": null,
   "metadata": {},
   "outputs": [],
   "source": [
    "UX12Contango"
   ]
  },
  {
   "cell_type": "code",
   "execution_count": null,
   "metadata": {},
   "outputs": [],
   "source": [
    "UX12Contango['ATR'].loc[datetime.datetime(2020,6,2,9,30):datetime.datetime(2020,6,2,16,0)]"
   ]
  },
  {
   "cell_type": "code",
   "execution_count": null,
   "metadata": {},
   "outputs": [],
   "source": [
    "print(ta.get_function_groups())"
   ]
  },
  {
   "cell_type": "code",
   "execution_count": null,
   "metadata": {},
   "outputs": [],
   "source": [
    "UX12Contango"
   ]
  },
  {
   "cell_type": "code",
   "execution_count": null,
   "metadata": {},
   "outputs": [],
   "source": [
    "contangostat"
   ]
  },
  {
   "cell_type": "markdown",
   "metadata": {},
   "source": [
    "## ======================================"
   ]
  },
  {
   "cell_type": "code",
   "execution_count": null,
   "metadata": {},
   "outputs": [],
   "source": [
    "contangostat['Thres']=contangostat['State1'].rolling(5).mean()+ 1.5*contangostat['State1'].rolling(3).std()\n",
    "contangostat['Thres2']=contangostat['State2'].rolling(5).mean()+ 1.5*contangostat['State2'].rolling(3).std()\n",
    "contangostat['Thres3']=contangostat['State3'].rolling(5).mean()+ 1.5*contangostat['State3'].rolling(3).std()\n",
    "contangostat['Thres3']=contangostat['State3'].rolling(5).mean()+ 1.5*contangostat['State3'].rolling(3).std()\n",
    "contangostat['prev']=contangostat['State1'].shift(1)\n",
    "contangostat['prev2']=contangostat['State2'].shift(1)\n",
    "contangostat['prev3']=contangostat['State2'].shift(1)"
   ]
  },
  {
   "cell_type": "markdown",
   "metadata": {},
   "source": [
    "### Long contango if today price is lower than yesterday price"
   ]
  },
  {
   "cell_type": "code",
   "execution_count": null,
   "metadata": {},
   "outputs": [],
   "source": [
    "da=fm_summary(contangostat[contangostat['State1']<1.5*contangostat['prev']]['Long at 15:55'])\n",
    "db=fm_summary(contangostat[contangostat['State2']<1.5*contangostat['prev2']]['Long at 16:00'])\n",
    "dc=fm_summary(contangostat[contangostat['State3']<1.5*contangostat['prev3']]['Long at 16:05'])\n",
    "contSUMst=pd.concat([da,db,dc],axis=1)\n",
    "contSUMst.columns=['Long 15:55','Long 16:00','Long 16:05']\n",
    "contSUMst=contSUMst.round(2)\n",
    "contSUMst.style.set_caption(\"CONTANGO Normal [Today price < 1.5 *yesterday price]\")"
   ]
  },
  {
   "cell_type": "markdown",
   "metadata": {},
   "source": [
    "### Long contango without extreme Contango"
   ]
  },
  {
   "cell_type": "code",
   "execution_count": null,
   "metadata": {},
   "outputs": [],
   "source": [
    "da2=fm_summary(contangostat[contangostat['State1']<contangostat['Thres']]['Long at 15:55'])\n",
    "db2=fm_summary(contangostat[contangostat['State2']<contangostat['Thres2']]['Long at 16:00'])\n",
    "dc2=fm_summary(contangostat[contangostat['State3']<contangostat['Thres3']]['Long at 16:05'])\n",
    "contSUMst2=pd.concat([da2,db2,dc2],axis=1)\n",
    "contSUMst2.columns=['Long 15:55','Long 16:00','Long 16:05']\n",
    "contSUMst2=contSUMst2.round(2)\n",
    "contSUMst2.style.set_caption(\"CONTANGO without extreme contango\")"
   ]
  },
  {
   "cell_type": "markdown",
   "metadata": {},
   "source": []
  },
  {
   "cell_type": "code",
   "execution_count": null,
   "metadata": {},
   "outputs": [],
   "source": [
    "contangostat.head(25)"
   ]
  },
  {
   "cell_type": "markdown",
   "metadata": {},
   "source": [
    "## Backwardation"
   ]
  },
  {
   "cell_type": "code",
   "execution_count": null,
   "metadata": {
    "scrolled": true
   },
   "outputs": [],
   "source": [
    "UX12extendedBack\n",
    "BackExt=UX12extendedBack.groupby('Time').mean()\n",
    "BackExt[['Close2']].plot(figsize=(16,8),label='UX1')\n",
    "plt.title('Backwardation VIX 2nd Month Price')\n",
    "plt.axvline('16:14:00', color='r')\n",
    "plt.axvline('16:30:00', color='y')\n",
    "plt.axvline('16:59:00', color='y')\n",
    "plt.show()"
   ]
  },
  {
   "cell_type": "code",
   "execution_count": null,
   "metadata": {},
   "outputs": [],
   "source": [
    "aa=UX12extendedBack.at_time('15:55').set_index('Date')['Spread']\n",
    "bb=UX12extendedBack.at_time('16:00').set_index('Date')['Spread']\n",
    "cc=UX12extendedBack.at_time('16:05').set_index('Date')['Spread']\n",
    "dd=UX12extendedBack.at_time('16:14').set_index('Date')['Spread']\n",
    "contangostat2=pd.concat([aa,bb,cc,dd],axis=1,join='inner')\n",
    "contangostat2.columns=['State1','State2','State3','Closing']\n",
    "contangostat2['Long at 15:55']=contangostat2['Closing']-contangostat2['State1']\n",
    "contangostat2['Long at 16:00']=contangostat2['Closing']-contangostat2['State2']\n",
    "contangostat2['Long at 16:05']=contangostat2['Closing']-contangostat2['State3']"
   ]
  },
  {
   "cell_type": "code",
   "execution_count": null,
   "metadata": {},
   "outputs": [],
   "source": []
  },
  {
   "cell_type": "code",
   "execution_count": null,
   "metadata": {},
   "outputs": [],
   "source": [
    "contSUM2=pd.concat([fm_summary(contangostat2['Long at 15:55']),fm_summary(contangostat2['Long at 16:00']),fm_summary(contangostat2['Long at 16:05'])],axis=1)\n",
    "contSUM2.columns=['Long 15:55','Long 16:00','Long 16:05']\n",
    "contSUM2=contSUM2.astype('float64').round(2)\n",
    "contSUM2.style.set_caption(\"Backwardation\")"
   ]
  },
  {
   "cell_type": "code",
   "execution_count": null,
   "metadata": {},
   "outputs": [],
   "source": []
  },
  {
   "cell_type": "markdown",
   "metadata": {},
   "source": [
    "## Neutral"
   ]
  },
  {
   "cell_type": "code",
   "execution_count": null,
   "metadata": {},
   "outputs": [],
   "source": [
    "UX12extendedNeutral\n",
    "NeutralExt=UX12extendedNeutral.groupby('Time').mean()\n",
    "NeutralExt[['Close2']].plot(figsize=(16,8),label='UX1')\n",
    "plt.title('Neutral VIX 2nd Month Price')\n",
    "plt.axvline('16:14:00', color='r')\n",
    "plt.axvline('16:30:00', color='y')\n",
    "plt.axvline('16:59:00', color='y')\n",
    "plt.show()"
   ]
  },
  {
   "cell_type": "code",
   "execution_count": null,
   "metadata": {},
   "outputs": [],
   "source": [
    "aaa=UX12extendedNeutral.at_time('15:55').set_index('Date')['Spread']\n",
    "bbb=UX12extendedNeutral.at_time('16:00').set_index('Date')['Spread']\n",
    "ccc=UX12extendedNeutral.at_time('16:05').set_index('Date')['Spread']\n",
    "ddd=UX12extendedNeutral.at_time('16:14').set_index('Date')['Spread']\n",
    "contangostat3=pd.concat([aaa,bbb,ccc,ddd],axis=1,join='inner')\n",
    "contangostat3.columns=['State1','State2','State3','Closing']\n",
    "contangostat3['Long at 15:55']=contangostat3['Closing']-contangostat3['State1']\n",
    "contangostat3['Long at 16:00']=contangostat3['Closing']-contangostat3['State2']\n",
    "contangostat3['Long at 16:05']=contangostat3['Closing']-contangostat3['State3']"
   ]
  },
  {
   "cell_type": "code",
   "execution_count": null,
   "metadata": {
    "scrolled": true
   },
   "outputs": [],
   "source": []
  },
  {
   "cell_type": "code",
   "execution_count": null,
   "metadata": {},
   "outputs": [],
   "source": [
    "contSUM3=pd.concat([fm_summary(contangostat3['Long at 15:55']),fm_summary(contangostat3['Long at 16:00']),fm_summary(contangostat3['Long at 16:05'])],axis=1)\n",
    "contSUM3.columns=['Long 15:55','Long 16:00','Long 16:05']\n",
    "contSUM3=contSUM3.astype('float64').round(2)\n",
    "contSUM3.style.set_caption(\"Neutral\")"
   ]
  },
  {
   "cell_type": "code",
   "execution_count": null,
   "metadata": {
    "scrolled": true
   },
   "outputs": [],
   "source": [
    "UX12extendedNeutral.head()"
   ]
  },
  {
   "cell_type": "markdown",
   "metadata": {},
   "source": [
    "### Dissecting the Factor"
   ]
  },
  {
   "cell_type": "code",
   "execution_count": null,
   "metadata": {
    "scrolled": true
   },
   "outputs": [],
   "source": [
    "#Extreme Contago \n",
    "t=pd.Series((v for v in UX12extendedContango.between_time('15:55','16:15')['Spread']))\n",
    "s = t.describe()\n",
    "s\n",
    "\n"
   ]
  },
  {
   "cell_type": "markdown",
   "metadata": {},
   "source": [
    "## State 1\n"
   ]
  },
  {
   "cell_type": "code",
   "execution_count": null,
   "metadata": {},
   "outputs": [],
   "source": [
    "contangostat['State1'].rolling(5).mean()"
   ]
  },
  {
   "cell_type": "code",
   "execution_count": null,
   "metadata": {},
   "outputs": [],
   "source": [
    "contangostat.head(20)"
   ]
  },
  {
   "cell_type": "markdown",
   "metadata": {},
   "source": [
    "## State 2"
   ]
  },
  {
   "cell_type": "code",
   "execution_count": null,
   "metadata": {},
   "outputs": [],
   "source": []
  },
  {
   "cell_type": "code",
   "execution_count": null,
   "metadata": {},
   "outputs": [],
   "source": []
  },
  {
   "cell_type": "markdown",
   "metadata": {},
   "source": [
    "## State 3"
   ]
  },
  {
   "cell_type": "code",
   "execution_count": null,
   "metadata": {},
   "outputs": [],
   "source": []
  },
  {
   "cell_type": "code",
   "execution_count": null,
   "metadata": {},
   "outputs": [],
   "source": [
    "strat=UX12extendedContango.between_time('15:55','16:15')\n",
    "strat"
   ]
  },
  {
   "cell_type": "code",
   "execution_count": null,
   "metadata": {},
   "outputs": [],
   "source": []
  },
  {
   "cell_type": "code",
   "execution_count": null,
   "metadata": {},
   "outputs": [],
   "source": []
  },
  {
   "cell_type": "code",
   "execution_count": null,
   "metadata": {},
   "outputs": [],
   "source": []
  },
  {
   "cell_type": "code",
   "execution_count": null,
   "metadata": {},
   "outputs": [],
   "source": []
  },
  {
   "cell_type": "code",
   "execution_count": null,
   "metadata": {},
   "outputs": [],
   "source": []
  },
  {
   "cell_type": "code",
   "execution_count": null,
   "metadata": {},
   "outputs": [],
   "source": []
  },
  {
   "cell_type": "code",
   "execution_count": null,
   "metadata": {},
   "outputs": [],
   "source": []
  },
  {
   "cell_type": "markdown",
   "metadata": {},
   "source": [
    "# Seasonality Analysis"
   ]
  },
  {
   "cell_type": "code",
   "execution_count": null,
   "metadata": {},
   "outputs": [],
   "source": [
    "UX1s=data1.between_time('09:30','17:00')\n",
    "UX2s=data2.between_time('09:30','17:00')\n",
    "UX1s['Volatility']=np.log(UX1s['High'])-np.log(UX1s['Low'])\n",
    "UX2s['Volatility']=np.log(UX2s['High'])-np.log(UX2s['Low'])\n",
    "UX1s['TIME']=UX1s.index.time\n",
    "UX2s['TIME']=UX2s.index.time\n",
    "UX1s['DAY']=UX1s.index.dayofweek #Monday=0 Sunday=6 for seasonality grouping\n",
    "UX2s['DAY']=UX2s.index.dayofweek\n",
    "UX12s=pd.concat([UX1s,UX2s],axis=1, join='inner')\n",
    "UX12s.columns=['Open','Close','High','Low','Value','Volume','Number Ticks','Volatility','Time','Day','Open2','Close2','High2','Low2','Value2','Volume2','Number Ticks2','Volatility2','Time2','Day2']\n",
    "UX12s['Spread']=(UX12s['Close2']-UX12s['Close'])"
   ]
  },
  {
   "cell_type": "code",
   "execution_count": null,
   "metadata": {},
   "outputs": [],
   "source": [
    "season=UX12s.groupby(['Day','Time']).mean()\n",
    "season"
   ]
  },
  {
   "cell_type": "code",
   "execution_count": null,
   "metadata": {},
   "outputs": [],
   "source": [
    "mon=season.loc[0,:]\n",
    "tue=season.loc[1,:]\n",
    "wed=season.loc[2,:]\n",
    "thurs=season.loc[3,:]\n",
    "fri=season.loc[4,:]"
   ]
  },
  {
   "cell_type": "code",
   "execution_count": null,
   "metadata": {},
   "outputs": [],
   "source": [
    "mon['Volume'].plot(figsize=(16,8),label='mon')\n",
    "tue['Volume'].plot(figsize=(16,8),label='tue')\n",
    "wed['Volume'].plot(figsize=(16,8),label='wed')\n",
    "thurs['Volume'].plot(figsize=(16,8),label='thurs')\n",
    "fri['Volume'].plot(figsize=(16,8),label='fri')\n",
    "plt.title('1st Month Vix Futures Volume Average across different day')\n",
    "plt.legend()\n",
    "plt.show()\n",
    "#plt.axvline('16:15:00', color='r')"
   ]
  },
  {
   "cell_type": "code",
   "execution_count": null,
   "metadata": {},
   "outputs": [],
   "source": [
    "mon.iloc[390:,:]['Volume'].plot(figsize=(16,8),label='mon')\n",
    "tue.iloc[390:,:]['Volume'].plot(figsize=(16,8),label='tue')\n",
    "wed.iloc[390:,:]['Volume'].plot(figsize=(16,8),label='wed')\n",
    "thurs.iloc[390:,:]['Volume'].plot(figsize=(16,8),label='thurs')\n",
    "fri.iloc[390:,:]['Volume'].plot(figsize=(16,8),label='fri')\n",
    "plt.title('1st Month Vix Futures Volume Average across different day')\n",
    "plt.legend()\n",
    "plt.show()\n",
    "#plt.axvline('16:15:00', color='r')"
   ]
  },
  {
   "cell_type": "code",
   "execution_count": null,
   "metadata": {},
   "outputs": [],
   "source": [
    "mon['Close2'].plot(figsize=(16,8),label='mon')\n",
    "tue['Close2'].plot(figsize=(16,8),label='tue')\n",
    "wed['Close2'].plot(figsize=(16,8),label='wed')\n",
    "thurs['Close2'].plot(figsize=(16,8),label='thurs')\n",
    "fri['Close2'].plot(figsize=(16,8),label='fri')\n",
    "plt.title('1st Month Vix Futures Price Average across different day')\n",
    "plt.legend()\n",
    "plt.show()\n",
    "#plt.axvline('16:15:00', color='r')"
   ]
  },
  {
   "cell_type": "code",
   "execution_count": null,
   "metadata": {},
   "outputs": [],
   "source": [
    "mon.iloc[390:,:]['Close2'].plot(figsize=(16,8),label='mon')\n",
    "tue.iloc[390:,:]['Close2'].plot(figsize=(16,8),label='tue')\n",
    "wed.iloc[390:,:]['Close2'].plot(figsize=(16,8),label='wed')\n",
    "thurs.iloc[390:,:]['Close2'].plot(figsize=(16,8),label='thurs')\n",
    "fri.iloc[390:,:]['Close2'].plot(figsize=(16,8),label='fri')\n",
    "plt.title('1st Month Vix Futures Price Average across different day')\n",
    "plt.legend()\n",
    "plt.show()\n",
    "#plt.axvline('16:15:00', color='r')"
   ]
  },
  {
   "cell_type": "markdown",
   "metadata": {},
   "source": [
    "### ETF "
   ]
  },
  {
   "cell_type": "code",
   "execution_count": null,
   "metadata": {},
   "outputs": [],
   "source": []
  },
  {
   "cell_type": "code",
   "execution_count": null,
   "metadata": {},
   "outputs": [],
   "source": []
  },
  {
   "cell_type": "code",
   "execution_count": null,
   "metadata": {},
   "outputs": [],
   "source": []
  },
  {
   "cell_type": "code",
   "execution_count": null,
   "metadata": {},
   "outputs": [],
   "source": []
  },
  {
   "cell_type": "code",
   "execution_count": null,
   "metadata": {},
   "outputs": [],
   "source": []
  }
 ],
 "metadata": {
  "kernelspec": {
   "display_name": "Python 3",
   "language": "python",
   "name": "python3"
  },
  "language_info": {
   "codemirror_mode": {
    "name": "ipython",
    "version": 3
   },
   "file_extension": ".py",
   "mimetype": "text/x-python",
   "name": "python",
   "nbconvert_exporter": "python",
   "pygments_lexer": "ipython3",
   "version": "3.7.6"
  }
 },
 "nbformat": 4,
 "nbformat_minor": 4
}
